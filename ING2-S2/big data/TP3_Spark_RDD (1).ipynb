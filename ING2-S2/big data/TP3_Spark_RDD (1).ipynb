{
 "cells": [
  {
   "cell_type": "markdown",
   "id": "728602b9-344f-417a-bb9d-2f03e7279d9e",
   "metadata": {},
   "source": [
    "<center>TP3: Spark RDD</center>"
   ]
  },
  {
   "cell_type": "markdown",
   "id": "e83bd15a-e778-4484-8595-5baf766a8b4e",
   "metadata": {},
   "source": [
    "## 1 Initialisation de Spark\n"
   ]
  },
  {
   "cell_type": "code",
   "execution_count": 1,
   "id": "e4bebc69-1b6c-4d81-b3fa-31daa8cfacde",
   "metadata": {},
   "outputs": [],
   "source": [
    "#commencer ici avec jupyter\n",
    "from pyspark import SparkContext\n",
    "from pyspark.sql import SparkSession\n",
    "\n",
    "spark = SparkSession\\\n",
    "        .builder\\\n",
    "        .master('local[*]')\\\n",
    "        .getOrCreate()\n",
    "sc = spark.sparkContext"
   ]
  },
  {
   "cell_type": "code",
   "execution_count": 5,
   "id": "db893585-0cb5-4208-8744-d3341ebc4b58",
   "metadata": {},
   "outputs": [],
   "source": [
    "def parseRatings(row):\n",
    "    splitted=row.split(\"::\")\n",
    "    return (int(splitted[0]),int(splitted[1]),int(splitted[2]),int(splitted[3]))"
   ]
  },
  {
   "cell_type": "code",
   "execution_count": 6,
   "id": "f5331c03-c47b-4d78-a2cc-d8b9fcb46a3c",
   "metadata": {},
   "outputs": [],
   "source": [
    "ratings_rdd = sc.textFile(\"MovieData/ratings.dat\").map(parseRatings).cache()\n"
   ]
  },
  {
   "cell_type": "code",
   "execution_count": 7,
   "id": "bcc9af94-9406-4015-9c47-51f4265b48a0",
   "metadata": {},
   "outputs": [
    {
     "data": {
      "text/plain": [
       "56174"
      ]
     },
     "execution_count": 7,
     "metadata": {},
     "output_type": "execute_result"
    }
   ],
   "source": [
    "ratings_rdd.map(lambda x: 1 if x[2] == 1 else 0).reduce(lambda x, y: x + y)"
   ]
  },
  {
   "cell_type": "code",
   "execution_count": 8,
   "id": "e38b3df2-c18a-4453-ba01-e5e858e25c16",
   "metadata": {},
   "outputs": [
    {
     "data": {
      "text/plain": [
       "3706"
      ]
     },
     "execution_count": 8,
     "metadata": {},
     "output_type": "execute_result"
    }
   ],
   "source": [
    "ratings_rdd.map(lambda row: row[1]).distinct().count()"
   ]
  },
  {
   "cell_type": "code",
   "execution_count": 10,
   "id": "6817e184-0f65-4684-949f-32fa1d8deb4a",
   "metadata": {},
   "outputs": [
    {
     "name": "stdout",
     "output_type": "stream",
     "text": [
      "UserID: 4169, Number of Ratings: 2314\n"
     ]
    }
   ],
   "source": [
    "from operator import add\n",
    "user_ratings_count = ratings_rdd.map(lambda x: (x[0], 1)).reduceByKey(add)\n",
    "top_user = user_ratings_count.max(key=lambda x: x[1])\n",
    "print(f\"UserID: {top_user[0]}, Number of Ratings: {top_user[1]}\")"
   ]
  },
  {
   "cell_type": "code",
   "execution_count": 12,
   "id": "18e632b7-5f39-48ed-8e87-439f08a06a28",
   "metadata": {},
   "outputs": [],
   "source": [
    "def parseMovies(row):\n",
    "    fields = row.split(\"::\")\n",
    "    return (int(fields[0]), fields[1], fields[2])\n",
    "\n",
    "movies_rdd = sc.textFile(\"MovieData/movies.dat\").map(parseMovies).cache()"
   ]
  },
  {
   "cell_type": "code",
   "execution_count": 14,
   "id": "e6db61b8-0c77-4d8b-a931-2b58f43d11a4",
   "metadata": {},
   "outputs": [],
   "source": [
    "def parseUsers(row):\n",
    "    fields = row.split(\"::\")\n",
    "    return (int(fields[0]), fields[1], int(fields[2]), int(fields[3]), fields[4])\n",
    "\n",
    "users_rdd = sc.textFile(\"MovieData/users.dat\").map(parseUsers).cache()"
   ]
  },
  {
   "cell_type": "code",
   "execution_count": 15,
   "id": "6f4a58c0-b08c-4956-a7dd-b6f8fd737d00",
   "metadata": {},
   "outputs": [
    {
     "name": "stdout",
     "output_type": "stream",
     "text": [
      "['Action', 'Adventure', 'Animation', \"Children's\", 'Comedy', 'Crime', 'Documentary', 'Drama', 'Fantasy', 'Film-Noir', 'Horror', 'Musical', 'Mystery', 'Romance', 'Sci-Fi', 'Thriller', 'War', 'Western']\n"
     ]
    }
   ],
   "source": [
    "# Extraire et séparer les genres\n",
    "genres_rdd = movies_rdd.flatMap(lambda x: x[2].split(\"|\"))\n",
    "\n",
    "# Supprimer les doublons et trier\n",
    "unique_sorted_genres = genres_rdd.distinct().collect()\n",
    "unique_sorted_genres.sort()\n",
    "\n",
    "# Afficher la liste des genres triée\n",
    "print(unique_sorted_genres)"
   ]
  },
  {
   "cell_type": "code",
   "execution_count": 16,
   "id": "8ce5b14c-d9f9-455b-b46a-4d8bf38a5921",
   "metadata": {},
   "outputs": [
    {
     "name": "stdout",
     "output_type": "stream",
     "text": [
      "Action: 503\n",
      "Adventure: 283\n",
      "Animation: 105\n",
      "Children's: 251\n",
      "Comedy: 1200\n",
      "Crime: 211\n",
      "Documentary: 127\n",
      "Drama: 1603\n",
      "Fantasy: 68\n",
      "Film-Noir: 44\n",
      "Horror: 343\n",
      "Musical: 114\n",
      "Mystery: 106\n",
      "Romance: 471\n",
      "Sci-Fi: 276\n",
      "Thriller: 492\n",
      "War: 143\n",
      "Western: 68\n"
     ]
    }
   ],
   "source": [
    "# Extraire et séparer les genres, puis les transformer en paires clé-valeur\n",
    "genre_counts_rdd = movies_rdd.flatMap(lambda x: [(genre, 1) for genre in x[2].split(\"|\")])\n",
    "\n",
    "# Compter le nombre de films pour chaque genre\n",
    "genre_counts = genre_counts_rdd.reduceByKey(lambda x, y: x + y).collect()\n",
    "\n",
    "# Trier les résultats par genre\n",
    "genre_counts.sort(key=lambda x: x[0])\n",
    "\n",
    "# Afficher le nombre de films pour chaque genre\n",
    "for genre, count in genre_counts:\n",
    "    print(f\"{genre}: {count}\")\n"
   ]
  },
  {
   "cell_type": "code",
   "execution_count": 18,
   "id": "37c64745-e540-4edb-88ba-052b29a5483e",
   "metadata": {},
   "outputs": [
    {
     "name": "stdout",
     "output_type": "stream",
     "text": [
      "Action: 11988\n",
      "Sci-Fi: 7137\n",
      "Western: 2024\n",
      "Animation: 1361\n",
      "Thriller: 9586\n",
      "Children's: 2200\n",
      "Drama: 22972\n",
      "Horror: 2385\n",
      "Mystery: 2883\n",
      "Comedy: 14944\n",
      "Adventure: 6336\n",
      "Film-Noir: 1840\n",
      "Fantasy: 1307\n",
      "Musical: 2181\n",
      "Romance: 7549\n",
      "Documentary: 420\n",
      "Crime: 4331\n",
      "War: 5800\n"
     ]
    }
   ],
   "source": [
    "# Filtrer les utilisateurs hommes de plus de 45 ans\n",
    "filtered_users_rdd = users_rdd.filter(lambda x: x[1] == 'M' and int(x[2]) > 45)\n",
    "\n",
    "# Joindre les RDD des utilisateurs filtrés et des évaluations\n",
    "filtered_ratings_rdd = filtered_users_rdd.map(lambda x: (x[0], x)).join(ratings_rdd.map(lambda x: (x[0], x)))\n",
    "\n",
    "# Filtrer pour ne garder que les évaluations avec une note >= 4\n",
    "high_ratings_rdd = filtered_ratings_rdd.filter(lambda x: x[1][1][2] >= 4)\n",
    "\n",
    "# Joindre avec le RDD des films pour obtenir les genres\n",
    "high_rated_movies_rdd = high_ratings_rdd.map(lambda x: (x[1][1][1], x)).join(movies_rdd.map(lambda x: (x[0], x)))\n",
    "\n",
    "# Extraire les genres et compter leur occurrence\n",
    "popular_genres_rdd = high_rated_movies_rdd.flatMap(lambda x: [(genre, 1) for genre in x[1][1][2].split(\"|\")])\n",
    "popular_genre_counts = popular_genres_rdd.reduceByKey(lambda x, y: x + y).collect()\n",
    "\n",
    "# Afficher les résultats\n",
    "for genre, count in popular_genre_counts:\n",
    "    print(f\"{genre}: {count}\")"
   ]
  },
  {
   "cell_type": "code",
   "execution_count": 19,
   "id": "cd433988-e5e7-410e-8fd9-d67748fbee9b",
   "metadata": {},
   "outputs": [
    {
     "name": "stdout",
     "output_type": "stream",
     "text": [
      "1919: Drama\n",
      "1920: Comedy\n",
      "1921: Action\n",
      "1922: Drama\n",
      "1923: Comedy\n",
      "1925: Comedy\n",
      "1926: Drama\n",
      "1927: Drama\n",
      "1928: Comedy\n",
      "1929: Thriller\n",
      "1930: Drama\n",
      "1931: Horror\n",
      "1932: Romance\n",
      "1933: Horror\n",
      "1934: Comedy\n",
      "1935: Romance\n",
      "1936: Comedy\n",
      "1937: Drama\n",
      "1938: Comedy\n",
      "1939: Drama\n",
      "1940: Comedy\n",
      "1941: Drama\n",
      "1942: Drama\n",
      "1943: Drama\n",
      "1944: Horror\n",
      "1945: Drama\n",
      "1946: Drama\n",
      "1947: Film-Noir\n",
      "1948: Drama\n",
      "1949: Drama\n",
      "1950: Sci-Fi\n",
      "1951: Drama\n",
      "1952: Drama\n",
      "1953: Drama\n",
      "1954: Drama\n",
      "1955: Drama\n",
      "1956: Sci-Fi\n",
      "1957: Drama\n",
      "1958: Drama\n",
      "1959: Horror\n",
      "1960: Drama\n",
      "1961: Drama\n",
      "1962: Drama\n",
      "1963: Drama\n",
      "1964: Musical\n",
      "1965: Drama\n",
      "1966: Drama\n",
      "1967: Comedy\n",
      "1968: Drama\n",
      "1969: Western\n",
      "1970: Comedy\n",
      "1971: Drama\n",
      "1972: Drama\n",
      "1973: Drama\n",
      "1974: Drama\n",
      "1975: Drama\n",
      "1976: Drama\n",
      "1977: Comedy\n",
      "1978: Drama\n",
      "1979: Drama\n",
      "1980: Drama\n",
      "1981: Drama\n",
      "1982: Drama\n",
      "1983: Comedy\n",
      "1984: Drama\n",
      "1985: Drama\n",
      "1986: Drama\n",
      "1987: Comedy\n",
      "1988: Comedy\n",
      "1989: Comedy\n",
      "1990: Drama\n",
      "1991: Drama\n",
      "1992: Drama\n",
      "1993: Drama\n",
      "1994: Drama\n",
      "1995: Drama\n",
      "1996: Drama\n",
      "1997: Drama\n",
      "1998: Drama\n",
      "1999: Drama\n",
      "2000: Comedy\n"
     ]
    }
   ],
   "source": [
    "from operator import itemgetter\n",
    "\n",
    "# Extraire l'année de sortie et les genres de chaque film\n",
    "movies_with_year_rdd = movies_rdd.map(lambda x: (x[0], x[1], x[2].split(\"|\"), x[1][-5:-1]))\n",
    "\n",
    "# Compter le nombre de films pour chaque genre et chaque année\n",
    "genre_year_counts_rdd = movies_with_year_rdd.flatMap(lambda x: [((x[3], genre), 1) for genre in x[2]])\n",
    "genre_year_counts = genre_year_counts_rdd.reduceByKey(lambda x, y: x + y)\n",
    "\n",
    "# Transformer en (année, (genre, nombre de films)) et trouver le genre le plus populaire pour chaque année\n",
    "popular_genre_by_year = genre_year_counts.map(lambda x: (x[0][0], (x[0][1], x[1])))\n",
    "most_popular_genre_by_year = popular_genre_by_year.reduceByKey(lambda x, y: x if x[1] > y[1] else y).collect()\n",
    "\n",
    "# Trier et afficher les résultats\n",
    "sorted_results = sorted(most_popular_genre_by_year, key=itemgetter(0))\n",
    "for year, genre_count in sorted_results:\n",
    "    print(f\"{year}: {genre_count[0]}\")\n"
   ]
  },
  {
   "cell_type": "code",
   "execution_count": 20,
   "id": "b9b921a7-e216-4aab-ab68-e6794ba5377f",
   "metadata": {},
   "outputs": [
    {
     "name": "stdout",
     "output_type": "stream",
     "text": [
      "[(1, 2238), (2, 2983), (3, 6380), (4, 8808), (5, 6802)]\n"
     ]
    }
   ],
   "source": [
    "# Filtrer les utilisateurs de moins de 18 ans\n",
    "young_users_rdd = users_rdd.filter(lambda x: x[2] == 1)\n",
    "\n",
    "# Joindre les RDD pour obtenir les notes données par ces utilisateurs\n",
    "young_users_ratings_rdd = young_users_rdd.map(lambda x: (x[0], None)).join(ratings_rdd.map(lambda x: (x[0], x[2])))\n",
    "\n",
    "# Compter le nombre de fois que chaque note apparaît\n",
    "note_frequencies = young_users_ratings_rdd.map(lambda x: (x[1][1], 1)).reduceByKey(lambda x, y: x + y).collect()\n",
    "\n",
    "# Trier et afficher les résultats\n",
    "sorted_note_frequencies = sorted(note_frequencies, key=lambda x: x[0])\n",
    "print(sorted_note_frequencies)\n"
   ]
  }
 ],
 "metadata": {
  "kernelspec": {
   "display_name": "Python 3 (ipykernel)",
   "language": "python",
   "name": "python3"
  },
  "language_info": {
   "codemirror_mode": {
    "name": "ipython",
    "version": 3
   },
   "file_extension": ".py",
   "mimetype": "text/x-python",
   "name": "python",
   "nbconvert_exporter": "python",
   "pygments_lexer": "ipython3",
   "version": "3.10.13"
  }
 },
 "nbformat": 4,
 "nbformat_minor": 5
}
